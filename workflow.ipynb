{
 "cells": [
  {
   "cell_type": "code",
   "execution_count": null,
   "id": "5a91c8e0-10f1-4869-bf00-341372e6bd8f",
   "metadata": {
    "vscode": {
     "languageId": "text"
    }
   },
   "outputs": [],
   "source": [
    "import init;"
   ]
  },
  {
   "cell_type": "code",
   "execution_count": null,
   "id": "70d30bcb-195d-4fbb-937d-1cd9421902bb",
   "metadata": {
    "vscode": {
     "languageId": "text"
    }
   },
   "outputs": [],
   "source": [
    "print(init(\"init\"));"
   ]
  }
 ],
 "metadata": {
  "kernelspec": {
   "display_name": "BraneScript",
   "language": "text",
   "name": "bscript"
  },
  "language_info": {
   "name": ""
  }
 },
 "nbformat": 4,
 "nbformat_minor": 5
}
